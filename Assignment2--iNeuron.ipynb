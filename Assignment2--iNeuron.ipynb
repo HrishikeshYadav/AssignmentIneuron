{
 "cells": [
  {
   "cell_type": "code",
   "execution_count": null,
   "id": "5d7b4d07-eefc-484a-b281-9fbeb03b7331",
   "metadata": {},
   "outputs": [],
   "source": [
    "\"\"\" 1) 1.What are the two values of the Boolean data type? How do you write them?\n",
    "ANSWER--\n",
    "The two value of Boolean data type are True and False, these values are typically written as keywords,\n",
    "with \"true\" representing the true state and\"false\" representing the false state."
   ]
  },
  {
   "cell_type": "code",
   "execution_count": null,
   "id": "b2f5d1e0-351b-4367-b7dd-ce216811cb6b",
   "metadata": {},
   "outputs": [],
   "source": [
    "\"\"\" 2 ) What are the three different types of Boolean operators?\n",
    "ANSWER--\n",
    "AND operator: The AND operator returns true if both operands are true; otherwise, it returns false. \n",
    "OR operator: The OR operator returns true if at least one of the operands is true; otherwise, it returns false. \n",
    "NOT operator: The NOT operator, sometimes referred to as the negation operator, is a unary operator that reverses the \n",
    "logical state of its operand. It returns true if the operand is false, and false if the operand is true"
   ]
  },
  {
   "cell_type": "code",
   "execution_count": null,
   "id": "56155dd5-9fbf-4896-9706-5765b5acfc6e",
   "metadata": {},
   "outputs": [],
   "source": [
    "\"\"\" 3) Make a list of each Boolean operator&#39;s truth tables (i.e. every possible combination of Boolean\n",
    "values for the operator and what it evaluate ).\n",
    "answer\n",
    "AND operator\n",
    "| Operand 1 | Operand 2 | Result |\n",
    "|-----------|-----------|--------|\n",
    "|   false   |   false   | false  |\n",
    "|   false   |   true    | false  |\n",
    "|   true    |   false   | false  |\n",
    "|   true    |   true    | true   |\n",
    "\n",
    "OR operator\n",
    "\n",
    "| Operand 1 | Operand 2 | Result |\n",
    "|-----------|-----------|--------|\n",
    "|   false   |   false   | false  |\n",
    "|   false   |   true    | true   |\n",
    "|   true    |   false   | true   |\n",
    "|   true    |   true    | true   |\n",
    "\n",
    "NOT operator \n",
    "\n",
    "| Operand | Result |\n",
    "|---------|--------|\n",
    "|  false  |  true  |\n",
    "|  true   | false  |"
   ]
  },
  {
   "cell_type": "code",
   "execution_count": null,
   "id": "fd3f3656-eb7d-4ae9-9cb4-0f8da07fd5a0",
   "metadata": {},
   "outputs": [],
   "source": [
    "\"\"\" 4) What are the values of the following expressions?\n",
    "(5 > 4) and (3 == 5)\n",
    "not (5 > 4)\n",
    "(5 &gt; 4) or (3 == 5)\n",
    "not ((5 > 4) or (3 == 5))\n",
    "(True and True) and (True == False)\n",
    "(not False) or (not True)\n",
    "ANSWER\n",
    "(5 > 4) and (3 == 5) evaluates to false.\n",
    "not (5 > 4) evaluates to false.\n",
    "(5 > 4) or (3 == 5) evaluates to true.\n",
    "not ((5 > 4) or (3 == 5)) evaluates to false.\n",
    "(True and True) and (True == False) evaluates to false.\n",
    "(not False) or (not True) evaluates to true."
   ]
  },
  {
   "cell_type": "code",
   "execution_count": null,
   "id": "3be0fb75-5a2d-4170-b370-980b28f29ab5",
   "metadata": {},
   "outputs": [],
   "source": [
    "\"\"\" 5 ) What are the six comparison operators?\n",
    "ANSWER\n",
    "Equal to (==): Compares if two values are equal and returns true if they are, and false otherwise.\n",
    "For example, 5 == 5 evaluates to true.\n",
    "\n",
    "Not equal to (!=): Compares if two values are not equal and returns true if they are not equal, and false if they are equal. \n",
    "For example, 5 != 3 evaluates to true.\n",
    "\n",
    "Greater than (>): Checks if the left operand is greater than the right operand. It returns true if it is, and false otherwise.\n",
    "For example, 5 > 3 evaluates to true.\n",
    "\n",
    "Less than (<): Checks if the left operand is less than the right operand. It returns true if it is, and false otherwise. \n",
    "For example, 5 < 3 evaluates to false.\n",
    "\n",
    "Greater than or equal to (>=): Checks if the left operand is greater than or equal to the right operand.\n",
    "It returns true if it is, and false otherwise. For example, 5 >= 5 evaluates to true.\n",
    "\n",
    "Less than or equal to (<=): Checks if the left operand is less than or equal to the right operand. It returns true if it is,\n",
    "and false otherwise. For example, 5 <= 3 evaluates to false."
   ]
  },
  {
   "cell_type": "code",
   "execution_count": 2,
   "id": "525e85af-3ffa-4974-81d8-dc5923f0e76f",
   "metadata": {},
   "outputs": [
    {
     "name": "stdout",
     "output_type": "stream",
     "text": [
      "x and y are not equal\n"
     ]
    }
   ],
   "source": [
    "\"\"\" 6)6. How do you tell the difference between the equal to and assignment operators?Describe a\n",
    "condition and when you would use one.\n",
    "answer--\n",
    "Equal to operator (==): The equal to operator is used to compare two values for equality. \n",
    "It returns true if the values are equal and false otherwise. It is commonly used in conditional statements,\n",
    "such as if statements\n",
    "Assignment operator (=): The assignment operator is used to assign a value to a variable. \n",
    "It assigns the value on the right-hand side to the variable on the left-hand side. \n",
    "It does not compare values for equality. \"\"\"\n",
    " # eg equal to(==)\n",
    "x = 10\n",
    "y = 12\n",
    "\n",
    "if x == y:\n",
    "    print(\"x and y are equal\")\n",
    "else:\n",
    "    print(\"x and y are not equal\")\n",
    "#Assignment Operatr example\n",
    "\n",
    "x = 5\n",
    "y = x + 2"
   ]
  },
  {
   "cell_type": "code",
   "execution_count": 3,
   "id": "b10069bd-e930-469d-bac4-f3a939c10cff",
   "metadata": {},
   "outputs": [
    {
     "ename": "SyntaxError",
     "evalue": "invalid syntax (1739139767.py, line 4)",
     "output_type": "error",
     "traceback": [
      "\u001b[0;36m  Cell \u001b[0;32mIn [3], line 4\u001b[0;36m\u001b[0m\n\u001b[0;31m    Block 1\u001b[0m\n\u001b[0m          ^\u001b[0m\n\u001b[0;31mSyntaxError\u001b[0m\u001b[0;31m:\u001b[0m invalid syntax\n"
     ]
    }
   ],
   "source": [
    "#ANSWER 7\n",
    "#There are  3 Block in above code\n",
    "\n",
    "\"\"\"Block 1\n",
    "if spam == 10:\n",
    "    print('eggs')\n",
    "Block 2\n",
    "if spam > 5:\n",
    "    print('bacon')\n",
    "Block 3\n",
    "else:\n",
    "    print('ham')\n",
    "    print('spam')\n",
    "    print('spam')\n",
    "    \n",
    "\"\"\"\n",
    "\n",
    "\n",
    "\n",
    "\n",
    "\n"
   ]
  },
  {
   "cell_type": "code",
   "execution_count": 17,
   "id": "89d35ef1-f984-4fcd-8d53-3427e57c4aa9",
   "metadata": {},
   "outputs": [
    {
     "name": "stdin",
     "output_type": "stream",
     "text": [
      "enter the value: 2\n"
     ]
    },
    {
     "name": "stdout",
     "output_type": "stream",
     "text": [
      "Howdy\n"
     ]
    }
   ],
   "source": [
    "#8. Write code that prints Hello if 1 is stored in spam, prints Howdy if 2 is stored in spam, and prints\n",
    "#Greetings! if anything else is stored in spam.\n",
    "#answer\n",
    "spam = int(input(\"enter the value:\"))\n",
    "if spam == 1:\n",
    "    print(\"Hello\")\n",
    "elif spam == 2:\n",
    "    print(\"Howdy\")\n",
    "else:\n",
    "    print(\"Greetings!\")"
   ]
  },
  {
   "cell_type": "code",
   "execution_count": null,
   "id": "b41feb7d-199e-45d7-b3fe-e0e3cc093fca",
   "metadata": {},
   "outputs": [],
   "source": [
    "\"\"\" 9)If your programme is stuck in an endless loop, what keys you’ll press?\n",
    "ANSWER\n",
    "I will press (Ctrl + C)"
   ]
  },
  {
   "cell_type": "code",
   "execution_count": 5,
   "id": "378338f3-2545-48f5-b918-b00de9c8143b",
   "metadata": {},
   "outputs": [
    {
     "name": "stdout",
     "output_type": "stream",
     "text": [
      "0\n",
      "1\n",
      "0\n",
      "1\n",
      "2\n",
      "4\n"
     ]
    }
   ],
   "source": [
    "\"\"\" 10) How can you tell the difference between break and continue?\n",
    "ANSWER\n",
    "The difference between break and continue statement is \"break\" statement is used to completely exit a loop, \n",
    "while the \"continue\" statement is used to skip the remaining statements within the current iteration and\n",
    "move to the next iteration of the loop.\"\"\"\n",
    "#Break statement\n",
    "for i in range(4):\n",
    "    if i == 2:\n",
    "        break\n",
    "    print(i)\n",
    "# continue statement\n",
    "for i in range(5):\n",
    "    if i == 3:\n",
    "        continue\n",
    "    print(i)"
   ]
  },
  {
   "cell_type": "code",
   "execution_count": null,
   "id": "d4008e2f-fe12-4356-a7ba-95829ea4a4a4",
   "metadata": {},
   "outputs": [],
   "source": [
    "\"\"\" 11 ) In a for loop, what is the difference between range(10), range(0, 10), and range(0, 10, 1)?\n",
    "ANSWER\n",
    "All three expressions range(10), range(0, 10), and range(0, 10, 1) produce the same sequence of numbers from 0 to 9. \n",
    "The differences lie in their syntax, where the start value and step value can be explicitly specified,but they are optional \n",
    "with default values assumed."
   ]
  },
  {
   "cell_type": "code",
   "execution_count": 8,
   "id": "506b90bd-3223-4665-b770-74f9f7a0c46e",
   "metadata": {},
   "outputs": [
    {
     "name": "stdout",
     "output_type": "stream",
     "text": [
      "1\n",
      "2\n",
      "3\n",
      "4\n",
      "5\n",
      "6\n",
      "7\n",
      "8\n",
      "9\n",
      "10\n",
      "1\n",
      "2\n",
      "3\n",
      "4\n",
      "5\n",
      "6\n",
      "7\n",
      "8\n",
      "9\n",
      "10\n"
     ]
    }
   ],
   "source": [
    "\"\"\" 12 ) Write a short program that prints the numbers 1 to 10 using a for loop. Then write an equivalent\n",
    "program that prints the numbers 1 to 10 using a while loop.\n",
    "Answer\"\"\"\n",
    "#for loop\n",
    "number = 10\n",
    "for i in range(number):\n",
    "    i = 1 + i\n",
    "    print(i)\n",
    "    \n",
    "    \n",
    "# while loop\n",
    "count = 1\n",
    "while count <= 10:\n",
    "    print (count)\n",
    "    count += 1\n"
   ]
  },
  {
   "cell_type": "code",
   "execution_count": null,
   "id": "316121c4-a76a-42ac-8837-877b05ed793c",
   "metadata": {},
   "outputs": [],
   "source": [
    "\"\"\" 13) If you had a function named bacon() inside a module named spam, how would you call it after\n",
    "importing spam?\n",
    "Answer\n",
    "After importing the module named \"spam\" that contains the function \"bacon()\", you can call the \"bacon()\" function \n",
    "using the syntax spam.bacon().\"\"\"\n",
    "import spam\n",
    "\n",
    "spam.bacon()\n"
   ]
  }
 ],
 "metadata": {
  "kernelspec": {
   "display_name": "Python 3 (ipykernel)",
   "language": "python",
   "name": "python3"
  },
  "language_info": {
   "codemirror_mode": {
    "name": "ipython",
    "version": 3
   },
   "file_extension": ".py",
   "mimetype": "text/x-python",
   "name": "python",
   "nbconvert_exporter": "python",
   "pygments_lexer": "ipython3",
   "version": "3.10.6"
  }
 },
 "nbformat": 4,
 "nbformat_minor": 5
}
