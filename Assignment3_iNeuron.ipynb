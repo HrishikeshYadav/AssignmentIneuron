{
 "cells": [
  {
   "cell_type": "code",
   "execution_count": null,
   "id": "533cc7dd-6748-48b2-ae21-c9b31b54e95b",
   "metadata": {},
   "outputs": [],
   "source": [
    "\"\"\" 1)  Why are functions advantageous to have in your programs?\n",
    "\n",
    "There are several Advantage of function in program  functions enhance the modularity, reusability, abstraction, organization,\n",
    "testing, debugging, collaboration, and code reuse capabilities of your programs. They are a fundamental building block of\n",
    "structured programming and facilitate the development of efficient, maintainable, and scalable software."
   ]
  },
  {
   "cell_type": "code",
   "execution_count": null,
   "id": "57c0dd83-ad20-41ac-972e-305b3105330d",
   "metadata": {},
   "outputs": [],
   "source": [
    "\"\"\"2)  When does the code in a function run: when it is specified or when it is called?\n",
    "answer\n",
    "The code within a function runs when the function is called"
   ]
  },
  {
   "cell_type": "code",
   "execution_count": null,
   "id": "718513ea-f949-4eb3-9ca4-4327100628ad",
   "metadata": {},
   "outputs": [],
   "source": [
    "\"\"\" 3) What statement creates a function?\n",
    "answer\n",
    " The def statement is used to create a function."
   ]
  },
  {
   "cell_type": "code",
   "execution_count": null,
   "id": "9ccc4f27-a423-4308-a495-34ff34740873",
   "metadata": {},
   "outputs": [],
   "source": [
    "\"\"\" 4) What is the difference between a function and a function call?\n",
    "answer\n",
    "A function is the code block that performs a specific task, while a function call is the action of executing that code block\n",
    "by invoking the function with specific arguments. "
   ]
  },
  {
   "cell_type": "code",
   "execution_count": null,
   "id": "9bf3e530-77ba-4d7c-8036-74ded5f65964",
   "metadata": {},
   "outputs": [],
   "source": [
    "\"\"\" 5) How many global scopes are there in a Python program? How many local scopes?\n",
    "answer\n",
    " A Python program has one global scope, which encompasses the entire program, and multiple local scopes, \n",
    " each associated with a function call and limited to that specific call."
   ]
  },
  {
   "cell_type": "code",
   "execution_count": null,
   "id": "b763eaa7-a07d-4a93-8b28-dc87cc5db09f",
   "metadata": {},
   "outputs": [],
   "source": [
    "\"\"\" 6) What happens to variables in a local scope when the function call returns?\n",
    "answer\n",
    " variables in a local scope are destroyed and inaccessible once the function call returns.\n",
    " They are deallocated from memory, and any attempt to access them outside of the function's scope will result in a NameError."
   ]
  },
  {
   "cell_type": "code",
   "execution_count": null,
   "id": "8a71045d-1d3e-4396-bb0a-4225ef84fca5",
   "metadata": {},
   "outputs": [],
   "source": [
    "\"\"\" 7 ) What is the concept of a return value? Is it possible to have a return value in an expression?\n",
    "answer\n",
    "the return value of a function is the value that is provided back to the caller when the function is called. \n",
    "It allows functions to produce results that can be stored, used, or manipulated in other parts of the program. \n",
    "However, the return value of a function is not an expression itself that can be used directly within other expressions."
   ]
  },
  {
   "cell_type": "code",
   "execution_count": null,
   "id": "14398923-c90e-45eb-8fbf-253faca4e09a",
   "metadata": {},
   "outputs": [],
   "source": [
    "\"\"\" 8 ) If a function does not have a return statement, what is the return value of a call to that function?\n",
    "answer\n",
    "if a function does not have a return statement, it is advisable to consider the implications of the implicit \n",
    "None return value and handle it appropriately in your code."
   ]
  },
  {
   "cell_type": "code",
   "execution_count": null,
   "id": "feb87801-7f8c-447e-8dfc-81b568e20afa",
   "metadata": {},
   "outputs": [],
   "source": [
    "\"\"\" 9 ) How do you make a function variable refer to the global variable?\n",
    "answer\n",
    "In Python, if you want to make a function variable refer to the global variable with the same name, you can use the\n",
    "global keyword within the function. By using the global keyword, you inform Python that the variable you're referencing \n",
    "is the global variable, rather than a local variable within the function."
   ]
  },
  {
   "cell_type": "code",
   "execution_count": null,
   "id": "3fe2c92f-2d70-4abb-8c24-7654be8247a2",
   "metadata": {},
   "outputs": [],
   "source": [
    "\"\"\" 10 ) What is the data type of None?\n",
    "answer\n",
    "The data type of None in Python is called NoneType. It is a built-in type that represents the absence of a value or a \n",
    "null value."
   ]
  },
  {
   "cell_type": "code",
   "execution_count": null,
   "id": "1480bf33-ebf4-4b7f-9e67-6c80575e445e",
   "metadata": {},
   "outputs": [],
   "source": [
    "\"\"\" 11) What does the sentence import areallyourpetsnamederic do?\n",
    "answer\n",
    "The sentence \"import areallyourpetsnamederic\" is not a valid Python import statement. In Python, the import statement is\n",
    "used to import modules or packages into your code, allowing you to access their functionality."
   ]
  },
  {
   "cell_type": "code",
   "execution_count": null,
   "id": "1292522e-fff4-4fda-9327-333ffd5448ed",
   "metadata": {},
   "outputs": [],
   "source": [
    "\"\"\" 12 ) If you had a bacon() feature in a spam module, what would you call it after importing spam?\n",
    "answer\n",
    "If you imported a module named spam that contains a feature called bacon(), you would call it using the following syntax: \"\"\"\n",
    "import spam\n",
    "\n",
    "spam.bacon()"
   ]
  },
  {
   "cell_type": "code",
   "execution_count": null,
   "id": "bcf60bbe-2158-458e-9bba-3d245348507c",
   "metadata": {},
   "outputs": [],
   "source": [
    "\"\"\" 13 ) What can you do to save a programme from crashing if it encounters an error?\n",
    "answer\n",
    "To prevent a program from crashing when it encounters an error, you can use error handling techniques to gracefully handle \n",
    "and recover from the errors. By implementing appropriate error handling mechanisms, you can ensure that your program continues\n",
    "execution even if unexpected issues arise.\n",
    "Try-Except: Use a try-except block to catch and handle specific exceptions that might occur during program execution. \n",
    "Place the code that might raise an exception inside the try block, and use the except block to define how to handle \n",
    "the specific exception types."
   ]
  },
  {
   "cell_type": "code",
   "execution_count": null,
   "id": "bae988a9-e156-4b68-a596-6faa0cfae345",
   "metadata": {},
   "outputs": [],
   "source": [
    "\"\"\" 14 ) What is the purpose of the try clause? What is the purpose of the except clause?\n",
    "answer\n",
    "The purpose of the try clause is to enclose a block of code that may potentially raise an exception. It allows you to identify\n",
    "and handle potential exceptions that might occur during the execution of that code block. \n",
    "The try block defines the \"try\" portion of the try-except statement.\n",
    "The purpose of the except clause(s) is to specify how to handle specific types of exceptions that may be raised within\n",
    "the corresponding try block. The except block(s) define the \"except\" portion of the try-except statement."
   ]
  }
 ],
 "metadata": {
  "kernelspec": {
   "display_name": "Python 3 (ipykernel)",
   "language": "python",
   "name": "python3"
  },
  "language_info": {
   "codemirror_mode": {
    "name": "ipython",
    "version": 3
   },
   "file_extension": ".py",
   "mimetype": "text/x-python",
   "name": "python",
   "nbconvert_exporter": "python",
   "pygments_lexer": "ipython3",
   "version": "3.10.6"
  }
 },
 "nbformat": 4,
 "nbformat_minor": 5
}
