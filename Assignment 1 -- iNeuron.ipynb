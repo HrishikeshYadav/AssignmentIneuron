{
 "cells": [
  {
   "cell_type": "code",
   "execution_count": null,
   "id": "c2c16e21-7cd9-4862-9b81-388f530aed7e",
   "metadata": {},
   "outputs": [],
   "source": [
    "\"\"\"1.) In the below elements which of them are values or an expression? eg:- values can be\n",
    "integer or string and expressions will be mathematical operators.\n",
    "\n",
    "answer--\n",
    "    Values:\n",
    "           'hello' (string value)\n",
    "            -87.8  (float value)\n",
    "             6  (integer value)\n",
    "   Expressions:\n",
    "\n",
    "        *  (multiplication operator)\n",
    "        -   (subtraction operator)\n",
    "        /  (division operator)\n",
    "       +  (addition operator)"
   ]
  },
  {
   "cell_type": "code",
   "execution_count": null,
   "id": "02140901-f751-42d7-b96c-c1f6a11a37ac",
   "metadata": {},
   "outputs": [],
   "source": [
    "\"\"\"2.) What is the difference between string and variable?\n",
    "answer-- The diffrence between string and variable is string store specific type of data like text,\n",
    "while while a variable is a box that can hold different types of data, including strings. "
   ]
  },
  {
   "cell_type": "code",
   "execution_count": null,
   "id": "bf70b362-37ec-4744-8315-3d6406d1d16a",
   "metadata": {},
   "outputs": [],
   "source": [
    "\"\"\"3 ).Describe three different data types.\n",
    "answer-- Three Different type of data types are\n",
    ". Integer (int): The integer data type represents whole numbers without any decimal places. \n",
    "It can include positive numbers, negative numbers, or zero\n",
    ".Floating-Point Number (float): The floating-point data type represents numbers with decimal places.\n",
    "It can include positive numbers, negative numbers, or zero\n",
    ".String: The string data type represents a sequence of characters, such as letters, digits, symbols, or spaces"
   ]
  },
  {
   "cell_type": "code",
   "execution_count": null,
   "id": "60ba328d-7a9b-4a86-a8b6-81310b6c1399",
   "metadata": {},
   "outputs": [],
   "source": [
    "\"\"\"4 ).What is an expression made up of? What do all expressions do?\n",
    "answer--\n",
    "An expression is made up of one or more values, variables, operators, and function calls \n",
    "that are combined to produce a result. It can represent a computation or a calculation in a programming language. \n",
    "Expressions can include mathematical operations, logical comparisons, string manipulations, and more."
   ]
  },
  {
   "cell_type": "code",
   "execution_count": null,
   "id": "2d38639b-724f-4424-944a-034704b0b334",
   "metadata": {},
   "outputs": [],
   "source": [
    "\"\"\"5)This assignment statements, like spam = 10. What is the difference between an\n",
    "expression and a statement?\n",
    "answer==\n",
    "Statement: A statement, on the other hand, is a unit of code that performs an action or carries out a specific task. \n",
    "It is a complete instruction or command that can be executed by the program.\n",
    "Statements do not produce a value but instead cause some effect or change in the program's state.\n",
    "Examples of statements include assignment statements (spam = 10)\n",
    "Expression: An expression is a combination of values, variables, operators, and function calls that can be evaluated to\n",
    "produce a result. It represents a computation or calculation. \n",
    " The main difference between expressions and statements is that expressions produce a value when evaluated, \n",
    "    while statements perform an action or carry out a task. \"\"\""
   ]
  },
  {
   "cell_type": "code",
   "execution_count": 3,
   "id": "3ac1a2cf-ca4b-404c-849e-6a2a8db5dfa7",
   "metadata": {},
   "outputs": [
    {
     "name": "stdout",
     "output_type": "stream",
     "text": [
      "22\n"
     ]
    }
   ],
   "source": [
    "#6After running the following code, what does the variable bacon contain?\n",
    "bacon = 22\n",
    "bacon + 1\n",
    "print(bacon) # bacon will contain value 22"
   ]
  },
  {
   "cell_type": "code",
   "execution_count": 5,
   "id": "2effe8cf-d8e1-4395-945f-b5b5cc40fa66",
   "metadata": {},
   "outputs": [
    {
     "name": "stdout",
     "output_type": "stream",
     "text": [
      "spamspamspam\n",
      "spamspamspam\n"
     ]
    }
   ],
   "source": [
    "#7) What should the values of the following two terms be?\n",
    "a = \"spam\"\n",
    "b = \"spamspam\"\n",
    "c = a + b\n",
    "print ( c)\n",
    "d = a * 3\n",
    "print(d)"
   ]
  },
  {
   "cell_type": "code",
   "execution_count": null,
   "id": "fcf5f078-6a23-4263-bf0a-551559e8e69c",
   "metadata": {},
   "outputs": [],
   "source": [
    "\"\"\"  8 ) Why is eggs a valid variable name while 100 is invalid?\n",
    "amswer--\n",
    "Variable names can't start with a digit: In Python, variable names cannot begin with a digit. \n",
    "They must start with a letter (a-z, A-Z) or an underscore (_). Since 'eggs' starts with a letter, it is a valid variable name.\n",
    "However, 100 starts with a digit, which makes it an invalid variable name."
   ]
  },
  {
   "cell_type": "code",
   "execution_count": 8,
   "id": "d003ab31-f09c-4205-9d2c-90c9492ac1e4",
   "metadata": {},
   "outputs": [
    {
     "data": {
      "text/plain": [
       "'94'"
      ]
     },
     "execution_count": 8,
     "metadata": {},
     "output_type": "execute_result"
    }
   ],
   "source": [
    "\"\"\" What three functions can be used to get the integer, floating-point number, or string\n",
    "version of a value?\n",
    "answer--\n",
    "Integer conversion function: int() \"\"\"\n",
    "int(3.14)\n",
    "#Floating-point conversion function: float()\n",
    "float(\"11.5\")\n",
    "#String conversion function: str()\n",
    "str(94)"
   ]
  },
  {
   "cell_type": "code",
   "execution_count": 9,
   "id": "ab50a5b7-ba10-43f0-b039-f8141103e9c9",
   "metadata": {},
   "outputs": [
    {
     "data": {
      "text/plain": [
       "'I have eaten 99 burritos.'"
      ]
     },
     "execution_count": 9,
     "metadata": {},
     "output_type": "execute_result"
    }
   ],
   "source": [
    "\"\"\" 10) Why does this expression cause an error? How can you fix it?\n",
    "\"I have eaten\" + 99 +\" burritos\"\n",
    "answer--\n",
    "The expression 'I have eaten ' + 99 + ' burritos.' causes an error \n",
    "because it attempts to concatenate a string ('I have eaten ') with an integer (99) using the + operator.\n",
    "To fix the error and concatenate the integer 99 with the surrounding strings, you can convert the integer to a string \n",
    "using the str() function. Here's the corrected version of the expression:\"\"\"\n",
    "'I have eaten ' + str(99) + ' burritos.'"
   ]
  },
  {
   "cell_type": "code",
   "execution_count": null,
   "id": "08b9dafd-3867-479f-ab17-b608232c0230",
   "metadata": {},
   "outputs": [],
   "source": []
  }
 ],
 "metadata": {
  "kernelspec": {
   "display_name": "Python 3 (ipykernel)",
   "language": "python",
   "name": "python3"
  },
  "language_info": {
   "codemirror_mode": {
    "name": "ipython",
    "version": 3
   },
   "file_extension": ".py",
   "mimetype": "text/x-python",
   "name": "python",
   "nbconvert_exporter": "python",
   "pygments_lexer": "ipython3",
   "version": "3.10.6"
  }
 },
 "nbformat": 4,
 "nbformat_minor": 5
}
